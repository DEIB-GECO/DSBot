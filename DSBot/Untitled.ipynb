{
 "cells": [
  {
   "cell_type": "code",
   "execution_count": 8,
   "metadata": {},
   "outputs": [],
   "source": [
    "import seaborn as sns\n",
    "import pandas as pd\n",
    "import numpy as np\n",
    "import matplotlib\n",
    "import matplotlib.pyplot as plt\n",
    "import os\n",
    "import pandas as pd\n",
    "from kb import KnowledgeBase\n",
    "from scipy.spatial.distance import pdist, squareform\n",
    "from sklearn.preprocessing import StandardScaler\n",
    "from sklearn.experimental import enable_iterative_imputer\n",
    "from sklearn.impute import IterativeImputer\n",
    "from sklearn.decomposition import PCA\n",
    "from sklearn import metrics\n",
    "from sklearn.cluster import KMeans\n",
    "from sklearn.model_selection import GridSearchCV"
   ]
  },
  {
   "cell_type": "code",
   "execution_count": 141,
   "metadata": {},
   "outputs": [],
   "source": [
    "class Dataset:\n",
    "    def __init__(self, dataset):\n",
    "        print(dataset.head())\n",
    "        self.dataset = dataset\n",
    "        _, self.cat_cols = self.categorical_columns()\n",
    "        self.missingValues, self.categorical = self.check_ds()\n",
    "       \n",
    "    def missing_values(self):\n",
    "        return (self.dataset.isnull().sum().sum())>0\n",
    "\n",
    "    def fill_missing_values(self, col=[]):\n",
    "        imp = IterativeImputer(max_iter=10, random_state=0)\n",
    "        if (len(col)>1) and (len(col)<self.dataset.shape[1]):\n",
    "            values_col = self.dataset.columns.difference(col)\n",
    "            values_dataset = pd.DataFrame(imp.fit_transform(self.dataset[values_col]))\n",
    "            values_dataset.columns = values_col\n",
    "            values_dataset = pd.concat([self.dataset, values_dataset])\n",
    "        elif len(col)<1:\n",
    "            values_dataset = pd.DataFrame(imp.fit_transform(self.dataset))\n",
    "        else:\n",
    "            values_dataset = self.dataset\n",
    "        return values_dataset\n",
    "    \n",
    "    def delete_missing_values(self):\n",
    "        self.dataset = self.dataset.dropna()\n",
    "\n",
    "    def fill_missing_cat(self, col):\n",
    "        self.dataset = self.dataset.apply(lambda col: col.fillna(col.value_counts().index[0]))\n",
    "\n",
    "    def zero_variance(self):\n",
    "        var = self.dataset.std(axis=1)\n",
    "        return (var==0).sum()>0\n",
    "\n",
    "    def categorical_columns(self):\n",
    "        cols = self.dataset.columns\n",
    "        num_cols = self.dataset._get_numeric_data().columns\n",
    "        return len(list(set(cols) - set(num_cols))) > 0, list(set(cols) - set(num_cols))\n",
    "\n",
    "    def one_hot_encode(self):\n",
    "        cols = self.dataset.columns\n",
    "        num_cols = self.dataset._get_numeric_data().columns\n",
    "        self.dataset = pd.get_dummies(self.dataset, columns=list(set(cols) - set(num_cols)))\n",
    "\n",
    "    def curse_of_dim(self):\n",
    "        data = StandardScaler().fit_transform(self.dataset)\n",
    "        eucl = squareform(pdist(data.values))\n",
    "        max_dist = eucl.max()\n",
    "        min_dist = eucl[eucl.nonzero()].min()\n",
    "        res = (max_dist-min_dist)/min_dist\n",
    "        return res<1\n",
    "\n",
    "    def dim_reduction(self):\n",
    "        self.dataset = PCA(len(self.dataset.index)).fit_transform(self.dataset)\n",
    "\n",
    "    def check_ds(self):\n",
    "        missing_val = self.missing_values()\n",
    "        categorical, cols = self.categorical_columns()\n",
    "        #if missing_val and not categorical:\n",
    "         #   self.dataset = self.fill_missing_values()\n",
    "        #elif missing_val and categorical:\n",
    "        #    self.fill_missing_cat(cols)\n",
    "        #    self.dataset = self.fill_missing_values(cols)\n",
    "        #zero_var = self.zero_variance()\n",
    "\n",
    "        #if categorical:\n",
    "        #   self.one_hot_encode()\n",
    "        #curse_of_dim = self.curse_of_dim()\n",
    "        #if curse_of_dim and not categorical:\n",
    "         #   self.dim_reduction()\n",
    "\n",
    "        return missing_val, categorical#, curse_of_dim\n"
   ]
  },
  {
   "cell_type": "code",
   "execution_count": 6,
   "metadata": {},
   "outputs": [
    {
     "name": "stdout",
     "output_type": "stream",
     "text": [
      "   survived  pclass     sex   age  sibsp  parch     fare embarked  class  \\\n",
      "0         0       3    male  22.0      1      0   7.2500        S  Third   \n",
      "1         1       1  female  38.0      1      0  71.2833        C  First   \n",
      "2         1       3  female  26.0      0      0   7.9250        S  Third   \n",
      "3         1       1  female  35.0      1      0  53.1000        S  First   \n",
      "4         0       3    male  35.0      0      0   8.0500        S  Third   \n",
      "\n",
      "     who  adult_male deck  embark_town alive  alone  \n",
      "0    man        True  NaN  Southampton    no  False  \n",
      "1  woman       False    C    Cherbourg   yes  False  \n",
      "2  woman       False  NaN  Southampton   yes   True  \n",
      "3  woman       False    C  Southampton   yes  False  \n",
      "4    man        True  NaN  Southampton    no   True  \n",
      "titanic True True\n",
      "None\n",
      "   survived  pclass   age  sibsp  parch     fare  adult_male  alone  \\\n",
      "0       0.0     3.0  22.0    1.0    0.0   7.2500         1.0    0.0   \n",
      "1       1.0     1.0  38.0    1.0    0.0  71.2833         0.0    0.0   \n",
      "2       1.0     3.0  26.0    0.0    0.0   7.9250         0.0    1.0   \n",
      "3       1.0     1.0  35.0    1.0    0.0  53.1000         0.0    0.0   \n",
      "4       0.0     3.0  35.0    0.0    0.0   8.0500         1.0    1.0   \n",
      "\n",
      "   sex_female  sex_male  ...  deck_C  deck_D  deck_E  deck_F  deck_G  \\\n",
      "0           0         1  ...       1       0       0       0       0   \n",
      "1           1         0  ...       1       0       0       0       0   \n",
      "2           1         0  ...       1       0       0       0       0   \n",
      "3           1         0  ...       1       0       0       0       0   \n",
      "4           0         1  ...       1       0       0       0       0   \n",
      "\n",
      "   embarked_C  embarked_Q  embarked_S  alive_no  alive_yes  \n",
      "0           0           0           1         1          0  \n",
      "1           1           0           0         0          1  \n",
      "2           0           0           1         0          1  \n",
      "3           0           0           1         0          1  \n",
      "4           0           0           1         1          0  \n",
      "\n",
      "[5 rows x 31 columns]\n",
      "(1782, 31)\n"
     ]
    }
   ],
   "source": [
    "titanic = sns.load_dataset('titanic')\n",
    "titanic_ds = Dataset(titanic)\n",
    "print('titanic', titanic_ds.missingValues, titanic_ds.categorical)\n",
    "print(titanic_ds.one_hot_encode())\n",
    "print(titanic_ds.dataset.head())\n",
    "print(titanic_ds.dataset.shape)"
   ]
  },
  {
   "cell_type": "code",
   "execution_count": 28,
   "metadata": {},
   "outputs": [],
   "source": [
    "pca_data = titanic_ds.dataset.values\n",
    "#pca = PCA(2)\n",
    "#pca_data = pca.fit_transform(titanic_ds.dataset.values)\n",
    "kmeans = KMeans(n_clusters=3)\n",
    "kmeans_fit = kmeans.fit(pca_data)\n",
    "labels = kmeans.fit_predict(pca_data)"
   ]
  },
  {
   "cell_type": "code",
   "execution_count": 29,
   "metadata": {},
   "outputs": [
    {
     "data": {
      "image/png": "[encoded data removed]",
      "text/plain": [
       "<Figure size 432x288 with 1 Axes>"
      ]
     },
     "metadata": {
      "needs_background": "light"
     },
     "output_type": "display_data"
    }
   ],
   "source": [
    "model =kmeans_fit\n",
    "pca = PCA(2)\n",
    "pca_data = pca.fit_transform(titanic_ds.dataset.values)\n",
    "#pca_data = titanic_ds.dataset.values\n",
    "#pca_data = kmeans_fit\n",
    "u_labels = np.unique(labels)\n",
    "for i in u_labels:\n",
    "    plt.scatter(pca_data[labels==i, 0], pca_data[labels==i, 1], label=i)\n",
    "plt.legend()\n",
    "plt.show()"
   ]
  },
  {
   "cell_type": "code",
   "execution_count": 32,
   "metadata": {},
   "outputs": [],
   "source": [
    "pca = PCA(2)\n",
    "pca_data = pca.fit_transform(titanic_ds.dataset.values)"
   ]
  },
  {
   "cell_type": "code",
   "execution_count": 43,
   "metadata": {},
   "outputs": [],
   "source": [
    "kmeans = KMeans(n_clusters=5)\n",
    "kmeans_fit = kmeans.fit(pca_data)\n",
    "labels = kmeans.fit_predict(pca_data)"
   ]
  },
  {
   "cell_type": "code",
   "execution_count": 44,
   "metadata": {},
   "outputs": [
    {
     "data": {
      "image/png": "[encoded data removed]",
      "text/plain": [
       "<Figure size 432x288 with 1 Axes>"
      ]
     },
     "metadata": {
      "needs_background": "light"
     },
     "output_type": "display_data"
    }
   ],
   "source": [
    "u_labels = np.unique(labels)\n",
    "for i in u_labels:\n",
    "    plt.scatter(pca_data[labels==i, 0], pca_data[labels==i, 1], label=i)"
   ]
  },
  {
   "cell_type": "code",
   "execution_count": 61,
   "metadata": {},
   "outputs": [
    {
     "data": {
      "text/plain": [
       "<Figure size 1152x1152 with 0 Axes>"
      ]
     },
     "metadata": {},
     "output_type": "display_data"
    },
    {
     "data": {
      "image/png": "[encoded data removed]",
      "text/plain": [
       "<Figure size 720x720 with 4 Axes>"
      ]
     },
     "metadata": {
      "needs_background": "light"
     },
     "output_type": "display_data"
    }
   ],
   "source": [
    "plt.figure(figsize = (16,16))\n",
    "cg=sns.clustermap(titanic_ds.dataset.corr(method='spearman'),vmin=0,vmax=1,center=0.5)\n",
    "cg.ax_row_dendrogram.set_visible(False)\n",
    "cg.ax_col_dendrogram.set_visible(False)"
   ]
  },
  {
   "cell_type": "code",
   "execution_count": 62,
   "metadata": {},
   "outputs": [
    {
     "data": {
      "text/plain": [
       "<Figure size 1152x1152 with 0 Axes>"
      ]
     },
     "metadata": {},
     "output_type": "display_data"
    },
    {
     "data": {
      "image/png": "[encoded data removed]",
      "text/plain": [
       "<Figure size 720x720 with 4 Axes>"
      ]
     },
     "metadata": {
      "needs_background": "light"
     },
     "output_type": "display_data"
    }
   ],
   "source": [
    "plt.figure(figsize = (16,16))\n",
    "cg=sns.clustermap(titanic_ds.dataset.corr(method='pearson'),vmin=0,vmax=1,center=0.5)\n",
    "cg.ax_row_dendrogram.set_visible(False)\n",
    "cg.ax_col_dendrogram.set_visible(False)"
   ]
  },
  {
   "cell_type": "code",
   "execution_count": 142,
   "metadata": {},
   "outputs": [
    {
     "name": "stdout",
     "output_type": "stream",
     "text": [
      "   survived  pclass     sex   age  sibsp  parch     fare embarked  class  \\\n",
      "0         0       3    male  22.0      1      0   7.2500        S  Third   \n",
      "1         1       1  female  38.0      1      0  71.2833        C  First   \n",
      "2         1       3  female  26.0      0      0   7.9250        S  Third   \n",
      "3         1       1  female  35.0      1      0  53.1000        S  First   \n",
      "4         0       3    male  35.0      0      0   8.0500        S  Third   \n",
      "\n",
      "     who  adult_male deck  embark_town alive  alone  \n",
      "0    man        True  NaN  Southampton    no  False  \n",
      "1  woman       False    C    Cherbourg   yes  False  \n",
      "2  woman       False  NaN  Southampton   yes   True  \n",
      "3  woman       False    C  Southampton   yes  False  \n",
      "4    man        True  NaN  Southampton    no   True  \n"
     ]
    }
   ],
   "source": [
    "titanic = sns.load_dataset('titanic')\n",
    "titanic_ds = Dataset(titanic)\n"
   ]
  },
  {
   "cell_type": "code",
   "execution_count": 143,
   "metadata": {},
   "outputs": [
    {
     "data": {
      "text/html": [
       "<div>\n",
       "<style scoped>\n",
       "    .dataframe tbody tr th:only-of-type {\n",
       "        vertical-align: middle;\n",
       "    }\n",
       "\n",
       "    .dataframe tbody tr th {\n",
       "        vertical-align: top;\n",
       "    }\n",
       "\n",
       "    .dataframe thead th {\n",
       "        text-align: right;\n",
       "    }\n",
       "</style>\n",
       "<table border=\"1\" class=\"dataframe\">\n",
       "  <thead>\n",
       "    <tr style=\"text-align: right;\">\n",
       "      <th></th>\n",
       "      <th>survived</th>\n",
       "      <th>pclass</th>\n",
       "      <th>sex</th>\n",
       "      <th>age</th>\n",
       "      <th>sibsp</th>\n",
       "      <th>parch</th>\n",
       "      <th>fare</th>\n",
       "      <th>embarked</th>\n",
       "      <th>class</th>\n",
       "      <th>who</th>\n",
       "      <th>adult_male</th>\n",
       "      <th>deck</th>\n",
       "      <th>embark_town</th>\n",
       "      <th>alive</th>\n",
       "      <th>alone</th>\n",
       "    </tr>\n",
       "  </thead>\n",
       "  <tbody>\n",
       "    <tr>\n",
       "      <th>0</th>\n",
       "      <td>0</td>\n",
       "      <td>3</td>\n",
       "      <td>male</td>\n",
       "      <td>22.0</td>\n",
       "      <td>1</td>\n",
       "      <td>0</td>\n",
       "      <td>7.2500</td>\n",
       "      <td>S</td>\n",
       "      <td>Third</td>\n",
       "      <td>man</td>\n",
       "      <td>True</td>\n",
       "      <td>NaN</td>\n",
       "      <td>Southampton</td>\n",
       "      <td>no</td>\n",
       "      <td>False</td>\n",
       "    </tr>\n",
       "    <tr>\n",
       "      <th>1</th>\n",
       "      <td>1</td>\n",
       "      <td>1</td>\n",
       "      <td>female</td>\n",
       "      <td>38.0</td>\n",
       "      <td>1</td>\n",
       "      <td>0</td>\n",
       "      <td>71.2833</td>\n",
       "      <td>C</td>\n",
       "      <td>First</td>\n",
       "      <td>woman</td>\n",
       "      <td>False</td>\n",
       "      <td>C</td>\n",
       "      <td>Cherbourg</td>\n",
       "      <td>yes</td>\n",
       "      <td>False</td>\n",
       "    </tr>\n",
       "    <tr>\n",
       "      <th>2</th>\n",
       "      <td>1</td>\n",
       "      <td>3</td>\n",
       "      <td>female</td>\n",
       "      <td>26.0</td>\n",
       "      <td>0</td>\n",
       "      <td>0</td>\n",
       "      <td>7.9250</td>\n",
       "      <td>S</td>\n",
       "      <td>Third</td>\n",
       "      <td>woman</td>\n",
       "      <td>False</td>\n",
       "      <td>NaN</td>\n",
       "      <td>Southampton</td>\n",
       "      <td>yes</td>\n",
       "      <td>True</td>\n",
       "    </tr>\n",
       "    <tr>\n",
       "      <th>3</th>\n",
       "      <td>1</td>\n",
       "      <td>1</td>\n",
       "      <td>female</td>\n",
       "      <td>35.0</td>\n",
       "      <td>1</td>\n",
       "      <td>0</td>\n",
       "      <td>53.1000</td>\n",
       "      <td>S</td>\n",
       "      <td>First</td>\n",
       "      <td>woman</td>\n",
       "      <td>False</td>\n",
       "      <td>C</td>\n",
       "      <td>Southampton</td>\n",
       "      <td>yes</td>\n",
       "      <td>False</td>\n",
       "    </tr>\n",
       "    <tr>\n",
       "      <th>4</th>\n",
       "      <td>0</td>\n",
       "      <td>3</td>\n",
       "      <td>male</td>\n",
       "      <td>35.0</td>\n",
       "      <td>0</td>\n",
       "      <td>0</td>\n",
       "      <td>8.0500</td>\n",
       "      <td>S</td>\n",
       "      <td>Third</td>\n",
       "      <td>man</td>\n",
       "      <td>True</td>\n",
       "      <td>NaN</td>\n",
       "      <td>Southampton</td>\n",
       "      <td>no</td>\n",
       "      <td>True</td>\n",
       "    </tr>\n",
       "    <tr>\n",
       "      <th>...</th>\n",
       "      <td>...</td>\n",
       "      <td>...</td>\n",
       "      <td>...</td>\n",
       "      <td>...</td>\n",
       "      <td>...</td>\n",
       "      <td>...</td>\n",
       "      <td>...</td>\n",
       "      <td>...</td>\n",
       "      <td>...</td>\n",
       "      <td>...</td>\n",
       "      <td>...</td>\n",
       "      <td>...</td>\n",
       "      <td>...</td>\n",
       "      <td>...</td>\n",
       "      <td>...</td>\n",
       "    </tr>\n",
       "    <tr>\n",
       "      <th>886</th>\n",
       "      <td>0</td>\n",
       "      <td>2</td>\n",
       "      <td>male</td>\n",
       "      <td>27.0</td>\n",
       "      <td>0</td>\n",
       "      <td>0</td>\n",
       "      <td>13.0000</td>\n",
       "      <td>S</td>\n",
       "      <td>Second</td>\n",
       "      <td>man</td>\n",
       "      <td>True</td>\n",
       "      <td>NaN</td>\n",
       "      <td>Southampton</td>\n",
       "      <td>no</td>\n",
       "      <td>True</td>\n",
       "    </tr>\n",
       "    <tr>\n",
       "      <th>887</th>\n",
       "      <td>1</td>\n",
       "      <td>1</td>\n",
       "      <td>female</td>\n",
       "      <td>19.0</td>\n",
       "      <td>0</td>\n",
       "      <td>0</td>\n",
       "      <td>30.0000</td>\n",
       "      <td>S</td>\n",
       "      <td>First</td>\n",
       "      <td>woman</td>\n",
       "      <td>False</td>\n",
       "      <td>B</td>\n",
       "      <td>Southampton</td>\n",
       "      <td>yes</td>\n",
       "      <td>True</td>\n",
       "    </tr>\n",
       "    <tr>\n",
       "      <th>888</th>\n",
       "      <td>0</td>\n",
       "      <td>3</td>\n",
       "      <td>female</td>\n",
       "      <td>NaN</td>\n",
       "      <td>1</td>\n",
       "      <td>2</td>\n",
       "      <td>23.4500</td>\n",
       "      <td>S</td>\n",
       "      <td>Third</td>\n",
       "      <td>woman</td>\n",
       "      <td>False</td>\n",
       "      <td>NaN</td>\n",
       "      <td>Southampton</td>\n",
       "      <td>no</td>\n",
       "      <td>False</td>\n",
       "    </tr>\n",
       "    <tr>\n",
       "      <th>889</th>\n",
       "      <td>1</td>\n",
       "      <td>1</td>\n",
       "      <td>male</td>\n",
       "      <td>26.0</td>\n",
       "      <td>0</td>\n",
       "      <td>0</td>\n",
       "      <td>30.0000</td>\n",
       "      <td>C</td>\n",
       "      <td>First</td>\n",
       "      <td>man</td>\n",
       "      <td>True</td>\n",
       "      <td>C</td>\n",
       "      <td>Cherbourg</td>\n",
       "      <td>yes</td>\n",
       "      <td>True</td>\n",
       "    </tr>\n",
       "    <tr>\n",
       "      <th>890</th>\n",
       "      <td>0</td>\n",
       "      <td>3</td>\n",
       "      <td>male</td>\n",
       "      <td>32.0</td>\n",
       "      <td>0</td>\n",
       "      <td>0</td>\n",
       "      <td>7.7500</td>\n",
       "      <td>Q</td>\n",
       "      <td>Third</td>\n",
       "      <td>man</td>\n",
       "      <td>True</td>\n",
       "      <td>NaN</td>\n",
       "      <td>Queenstown</td>\n",
       "      <td>no</td>\n",
       "      <td>True</td>\n",
       "    </tr>\n",
       "  </tbody>\n",
       "</table>\n",
       "<p>891 rows × 15 columns</p>\n",
       "</div>"
      ],
      "text/plain": [
       "     survived  pclass     sex   age  sibsp  parch     fare embarked   class  \\\n",
       "0           0       3    male  22.0      1      0   7.2500        S   Third   \n",
       "1           1       1  female  38.0      1      0  71.2833        C   First   \n",
       "2           1       3  female  26.0      0      0   7.9250        S   Third   \n",
       "3           1       1  female  35.0      1      0  53.1000        S   First   \n",
       "4           0       3    male  35.0      0      0   8.0500        S   Third   \n",
       "..        ...     ...     ...   ...    ...    ...      ...      ...     ...   \n",
       "886         0       2    male  27.0      0      0  13.0000        S  Second   \n",
       "887         1       1  female  19.0      0      0  30.0000        S   First   \n",
       "888         0       3  female   NaN      1      2  23.4500        S   Third   \n",
       "889         1       1    male  26.0      0      0  30.0000        C   First   \n",
       "890         0       3    male  32.0      0      0   7.7500        Q   Third   \n",
       "\n",
       "       who  adult_male deck  embark_town alive  alone  \n",
       "0      man        True  NaN  Southampton    no  False  \n",
       "1    woman       False    C    Cherbourg   yes  False  \n",
       "2    woman       False  NaN  Southampton   yes   True  \n",
       "3    woman       False    C  Southampton   yes  False  \n",
       "4      man        True  NaN  Southampton    no   True  \n",
       "..     ...         ...  ...          ...   ...    ...  \n",
       "886    man        True  NaN  Southampton    no   True  \n",
       "887  woman       False    B  Southampton   yes   True  \n",
       "888  woman       False  NaN  Southampton    no  False  \n",
       "889    man        True    C    Cherbourg   yes   True  \n",
       "890    man        True  NaN   Queenstown    no   True  \n",
       "\n",
       "[891 rows x 15 columns]"
      ]
     },
     "execution_count": 143,
     "metadata": {},
     "output_type": "execute_result"
    }
   ],
   "source": [
    "titanic"
   ]
  },
  {
   "cell_type": "code",
   "execution_count": 116,
   "metadata": {},
   "outputs": [],
   "source": [
    "from mlxtend.frequent_patterns import apriori, association_rules\n",
    "#titanic_ds.one_hot_encode()\n",
    "#frq_items = apriori(titanic_ds.dataset, min_support = 0.05, use_colnames = True)"
   ]
  },
  {
   "cell_type": "code",
   "execution_count": 145,
   "metadata": {},
   "outputs": [
    {
     "name": "stdout",
     "output_type": "stream",
     "text": [
      "      sex  embark_town deck embarked alive\n",
      "0    male  Southampton  NaN        S    no\n",
      "1  female    Cherbourg    C        C   yes\n",
      "2  female  Southampton  NaN        S   yes\n",
      "3  female  Southampton    C        S   yes\n",
      "4    male  Southampton  NaN        S    no\n"
     ]
    }
   ],
   "source": [
    "titanic_ds_cat = titanic_ds.dataset[[i for i in titanic_ds.cat_cols]]\n",
    "tit_cat = titanic_ds_cat[['sex','embark_town','deck','embarked','alive']]\n",
    "tit_cat = Dataset(tit_cat)"
   ]
  },
  {
   "cell_type": "code",
   "execution_count": 146,
   "metadata": {},
   "outputs": [],
   "source": [
    "#titanic_ds.dataset[[i for i in titanic_ds.cat_cols]]\n",
    "\n",
    "tit_cat.delete_missing_values()\n",
    "tit_cat.one_hot_encode()"
   ]
  },
  {
   "cell_type": "code",
   "execution_count": 147,
   "metadata": {},
   "outputs": [
    {
     "name": "stdout",
     "output_type": "stream",
     "text": [
      "\r",
      "Processing 182 combinations | Sampling itemset size 2\r",
      "Processing 585 combinations | Sampling itemset size 3\r",
      "Processing 380 combinations | Sampling itemset size 4\r",
      "Processing 95 combinations | Sampling itemset size 5\r",
      "Processing 6 combinations | Sampling itemset size 6\n"
     ]
    }
   ],
   "source": [
    "frq_items = apriori(tit_cat.dataset, min_support = 0.05, use_colnames = True, verbose=1)"
   ]
  },
  {
   "cell_type": "code",
   "execution_count": 155,
   "metadata": {},
   "outputs": [
    {
     "data": {
      "text/html": [
       "<div>\n",
       "<style scoped>\n",
       "    .dataframe tbody tr th:only-of-type {\n",
       "        vertical-align: middle;\n",
       "    }\n",
       "\n",
       "    .dataframe tbody tr th {\n",
       "        vertical-align: top;\n",
       "    }\n",
       "\n",
       "    .dataframe thead th {\n",
       "        text-align: right;\n",
       "    }\n",
       "</style>\n",
       "<table border=\"1\" class=\"dataframe\">\n",
       "  <thead>\n",
       "    <tr style=\"text-align: right;\">\n",
       "      <th></th>\n",
       "      <th>antecedents</th>\n",
       "      <th>consequents</th>\n",
       "      <th>antecedent support</th>\n",
       "      <th>consequent support</th>\n",
       "      <th>support</th>\n",
       "      <th>confidence</th>\n",
       "      <th>lift</th>\n",
       "      <th>leverage</th>\n",
       "      <th>conviction</th>\n",
       "    </tr>\n",
       "  </thead>\n",
       "  <tbody>\n",
       "    <tr>\n",
       "      <th>27</th>\n",
       "      <td>(embarked_C, sex_female)</td>\n",
       "      <td>(embark_town_Cherbourg)</td>\n",
       "      <td>0.184080</td>\n",
       "      <td>0.343284</td>\n",
       "      <td>0.184080</td>\n",
       "      <td>1.000000</td>\n",
       "      <td>2.913043</td>\n",
       "      <td>0.120888</td>\n",
       "      <td>inf</td>\n",
       "    </tr>\n",
       "    <tr>\n",
       "      <th>28</th>\n",
       "      <td>(embark_town_Cherbourg, sex_female)</td>\n",
       "      <td>(embarked_C)</td>\n",
       "      <td>0.184080</td>\n",
       "      <td>0.343284</td>\n",
       "      <td>0.184080</td>\n",
       "      <td>1.000000</td>\n",
       "      <td>2.913043</td>\n",
       "      <td>0.120888</td>\n",
       "      <td>inf</td>\n",
       "    </tr>\n",
       "    <tr>\n",
       "      <th>29</th>\n",
       "      <td>(embark_town_Cherbourg, sex_female)</td>\n",
       "      <td>(alive_yes)</td>\n",
       "      <td>0.184080</td>\n",
       "      <td>0.666667</td>\n",
       "      <td>0.179104</td>\n",
       "      <td>0.972973</td>\n",
       "      <td>1.459459</td>\n",
       "      <td>0.056385</td>\n",
       "      <td>12.333333</td>\n",
       "    </tr>\n",
       "    <tr>\n",
       "      <th>30</th>\n",
       "      <td>(embark_town_Cherbourg, alive_yes)</td>\n",
       "      <td>(sex_female)</td>\n",
       "      <td>0.258706</td>\n",
       "      <td>0.472637</td>\n",
       "      <td>0.179104</td>\n",
       "      <td>0.692308</td>\n",
       "      <td>1.464777</td>\n",
       "      <td>0.056830</td>\n",
       "      <td>1.713930</td>\n",
       "    </tr>\n",
       "    <tr>\n",
       "      <th>31</th>\n",
       "      <td>(embarked_S, sex_female)</td>\n",
       "      <td>(embark_town_Southampton)</td>\n",
       "      <td>0.278607</td>\n",
       "      <td>0.636816</td>\n",
       "      <td>0.278607</td>\n",
       "      <td>1.000000</td>\n",
       "      <td>1.570312</td>\n",
       "      <td>0.101186</td>\n",
       "      <td>inf</td>\n",
       "    </tr>\n",
       "  </tbody>\n",
       "</table>\n",
       "</div>"
      ],
      "text/plain": [
       "                            antecedents                consequents  \\\n",
       "27             (embarked_C, sex_female)    (embark_town_Cherbourg)   \n",
       "28  (embark_town_Cherbourg, sex_female)               (embarked_C)   \n",
       "29  (embark_town_Cherbourg, sex_female)                (alive_yes)   \n",
       "30   (embark_town_Cherbourg, alive_yes)               (sex_female)   \n",
       "31             (embarked_S, sex_female)  (embark_town_Southampton)   \n",
       "\n",
       "    antecedent support  consequent support   support  confidence      lift  \\\n",
       "27            0.184080            0.343284  0.184080    1.000000  2.913043   \n",
       "28            0.184080            0.343284  0.184080    1.000000  2.913043   \n",
       "29            0.184080            0.666667  0.179104    0.972973  1.459459   \n",
       "30            0.258706            0.472637  0.179104    0.692308  1.464777   \n",
       "31            0.278607            0.636816  0.278607    1.000000  1.570312   \n",
       "\n",
       "    leverage  conviction  \n",
       "27  0.120888         inf  \n",
       "28  0.120888         inf  \n",
       "29  0.056385   12.333333  \n",
       "30  0.056830    1.713930  \n",
       "31  0.101186         inf  "
      ]
     },
     "execution_count": 155,
     "metadata": {},
     "output_type": "execute_result"
    }
   ],
   "source": [
    "rules = association_rules(frq_items, metric=\"confidence\", min_threshold=0.6)\n",
    "rules[rules['antecedents'].apply(lambda x: len(x)>1)].head()"
   ]
  },
  {
   "cell_type": "code",
   "execution_count": 154,
   "metadata": {},
   "outputs": [
    {
     "data": {
      "text/plain": [
       "259"
      ]
     },
     "execution_count": 154,
     "metadata": {},
     "output_type": "execute_result"
    }
   ],
   "source": [
    "len([len(i) for i in rules['antecedents']])"
   ]
  },
  {
   "cell_type": "code",
   "execution_count": null,
   "metadata": {},
   "outputs": [],
   "source": []
  }
 ],
 "metadata": {
  "kernelspec": {
   "display_name": "Python 3",
   "language": "python",
   "name": "python3"
  },
  "language_info": {
   "codemirror_mode": {
    "name": "ipython",
    "version": 3
   },
   "file_extension": ".py",
   "mimetype": "text/x-python",
   "name": "python",
   "nbconvert_exporter": "python",
   "pygments_lexer": "ipython3",
   "version": "3.8.5"
  }
 },
 "nbformat": 4,
 "nbformat_minor": 4
}
